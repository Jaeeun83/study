{
  "nbformat": 4,
  "nbformat_minor": 0,
  "metadata": {
    "colab": {
      "provenance": [],
      "authorship_tag": "ABX9TyOnORATxsm1x1nfkJUW74Vh",
      "include_colab_link": true
    },
    "kernelspec": {
      "name": "python3",
      "display_name": "Python 3"
    },
    "language_info": {
      "name": "python"
    }
  },
  "cells": [
    {
      "cell_type": "markdown",
      "metadata": {
        "id": "view-in-github",
        "colab_type": "text"
      },
      "source": [
        "<a href=\"https://colab.research.google.com/github/Jaeeun83/study/blob/main/tensor_basic.ipynb\" target=\"_parent\"><img src=\"https://colab.research.google.com/assets/colab-badge.svg\" alt=\"Open In Colab\"/></a>"
      ]
    },
    {
      "cell_type": "code",
      "execution_count": 1,
      "metadata": {
        "id": "PyWx1BVhu7p9"
      },
      "outputs": [],
      "source": [
        "import torch as torch\n",
        "import numpy as np"
      ]
    },
    {
      "cell_type": "markdown",
      "source": [
        "# 0차원 텐서 (scalar)"
      ],
      "metadata": {
        "id": "GJvWt9kPvEam"
      }
    },
    {
      "cell_type": "code",
      "source": [
        "a = torch.tensor(1)\n",
        "\n",
        "print(a)\n",
        "print('차원 : ', torch.Tensor.dim(a))\n",
        "print('사이즈 : ', torch.Tensor.size(a))"
      ],
      "metadata": {
        "colab": {
          "base_uri": "https://localhost:8080/"
        },
        "id": "1PG1IfPsvWo0",
        "outputId": "cd69d771-0c02-4a11-c95a-d4cdf6423ffa"
      },
      "execution_count": 3,
      "outputs": [
        {
          "output_type": "stream",
          "name": "stdout",
          "text": [
            "tensor(1)\n",
            "차원 :  0\n",
            "사이즈 :  torch.Size([])\n"
          ]
        }
      ]
    },
    {
      "cell_type": "markdown",
      "source": [
        "# 1차원 텐서 (Vector)"
      ],
      "metadata": {
        "id": "DlkMBJwzvwyq"
      }
    },
    {
      "cell_type": "code",
      "source": [
        "b = torch.tensor([1,2,3])\n",
        "print(b)\n",
        "print('차원 : ', torch.Tensor.dim(b))\n",
        "print('사이즈 : ', torch.Tensor.size(b))"
      ],
      "metadata": {
        "colab": {
          "base_uri": "https://localhost:8080/"
        },
        "id": "Hi1qVvx5v2h4",
        "outputId": "7193949f-0b05-4da5-d233-5d82e967268c"
      },
      "execution_count": 5,
      "outputs": [
        {
          "output_type": "stream",
          "name": "stdout",
          "text": [
            "tensor([1, 2, 3])\n",
            "차원 :  1\n",
            "사이즈 :  torch.Size([3])\n"
          ]
        }
      ]
    },
    {
      "cell_type": "code",
      "source": [
        "b = torch.tensor([1])\n",
        "print(b)\n",
        "print('차원 : ', torch.Tensor.dim(b))\n",
        "print('사이즈 : ', torch.Tensor.size(b))"
      ],
      "metadata": {
        "colab": {
          "base_uri": "https://localhost:8080/"
        },
        "id": "KNZC8zJHwCtD",
        "outputId": "6e19cd5e-0563-45a9-a969-e9780a7aa48b"
      },
      "execution_count": 6,
      "outputs": [
        {
          "output_type": "stream",
          "name": "stdout",
          "text": [
            "tensor([1])\n",
            "차원 :  1\n",
            "사이즈 :  torch.Size([1])\n"
          ]
        }
      ]
    },
    {
      "cell_type": "markdown",
      "source": [
        "# 2차원 텐서 (Matrix)"
      ],
      "metadata": {
        "id": "qhZSrcnvwJoQ"
      }
    },
    {
      "cell_type": "code",
      "source": [
        "c = torch.tensor([[1,2,3],[4,5,6]])\n",
        "print(c)\n",
        "print('차원 : ', torch.Tensor.dim(c))\n",
        "print('사이즈 : ', torch.Tensor.size(c))"
      ],
      "metadata": {
        "colab": {
          "base_uri": "https://localhost:8080/"
        },
        "id": "YpM4NUM6wOle",
        "outputId": "760ede47-7194-4740-ba74-7981a1931ffa"
      },
      "execution_count": 7,
      "outputs": [
        {
          "output_type": "stream",
          "name": "stdout",
          "text": [
            "tensor([[1, 2, 3],\n",
            "        [4, 5, 6]])\n",
            "차원 :  2\n",
            "사이즈 :  torch.Size([2, 3])\n"
          ]
        }
      ]
    },
    {
      "cell_type": "code",
      "source": [
        "c = torch.tensor([[1]])\n",
        "print(c)\n",
        "print('차원 : ', torch.Tensor.dim(c))\n",
        "print('사이즈 : ', torch.Tensor.size(c))"
      ],
      "metadata": {
        "colab": {
          "base_uri": "https://localhost:8080/"
        },
        "id": "rhedpq6bwcK-",
        "outputId": "782324cb-4f08-4a05-f53d-b1689066f4cb"
      },
      "execution_count": 8,
      "outputs": [
        {
          "output_type": "stream",
          "name": "stdout",
          "text": [
            "tensor([[1]])\n",
            "차원 :  2\n",
            "사이즈 :  torch.Size([1, 1])\n"
          ]
        }
      ]
    },
    {
      "cell_type": "markdown",
      "source": [
        "# 3차원 텐서\n",
        "\n",
        "\n",
        "*   dim = 3\n",
        "*   Size = (채널, 행, 열)\n",
        "\n"
      ],
      "metadata": {
        "id": "n_oMX0DswjEH"
      }
    },
    {
      "cell_type": "code",
      "source": [
        "d = torch.tensor([[[1,2,3],[4,5,6]],[[3,2,5],[9,2,6]]])\n",
        "print(d)\n",
        "print('차원 : ', torch.Tensor.dim(d))\n",
        "print('사이즈 : ', torch.Tensor.size(d))"
      ],
      "metadata": {
        "colab": {
          "base_uri": "https://localhost:8080/"
        },
        "id": "8dmdfpkDw3K4",
        "outputId": "af4c9236-6a9a-4127-c8dc-101634058f79"
      },
      "execution_count": 10,
      "outputs": [
        {
          "output_type": "stream",
          "name": "stdout",
          "text": [
            "tensor([[[1, 2, 3],\n",
            "         [4, 5, 6]],\n",
            "\n",
            "        [[3, 2, 5],\n",
            "         [9, 2, 6]]])\n",
            "차원 :  3\n",
            "사이즈 :  torch.Size([2, 2, 3])\n"
          ]
        }
      ]
    },
    {
      "cell_type": "code",
      "source": [
        "d = torch.tensor([[[1]]])\n",
        "print(d)\n",
        "print('차원 : ', torch.Tensor.dim(d))\n",
        "print('사이즈 : ', torch.Tensor.size(d))"
      ],
      "metadata": {
        "colab": {
          "base_uri": "https://localhost:8080/"
        },
        "id": "YiUMD6vAxPjw",
        "outputId": "f6a240ae-1f02-42c5-947a-eabae0832a43"
      },
      "execution_count": 11,
      "outputs": [
        {
          "output_type": "stream",
          "name": "stdout",
          "text": [
            "tensor([[[1]]])\n",
            "차원 :  3\n",
            "사이즈 :  torch.Size([1, 1, 1])\n"
          ]
        }
      ]
    },
    {
      "cell_type": "markdown",
      "source": [
        "# 4차원 텐서\n",
        "\n",
        "*   Size = (개수, 채널, 행, 열)\n",
        "\n"
      ],
      "metadata": {
        "id": "66UsDFOLxaGO"
      }
    },
    {
      "cell_type": "code",
      "source": [
        "e = torch.tensor([[[[1,2,3],[4,5,6]],[[3,2,5],[9,2,6]]],\n",
        "                  [[[2,9,7],[6,5,1]],[[2,9,8],[6,4,0]]],\n",
        "                  [[[9,2,1],[6,4,1]],[[2,7,6],[5,8,6]]]])\n",
        "print(e)\n",
        "print('차원 : ', torch.Tensor.dim(e))\n",
        "print('사이즈 : ', torch.Tensor.size(e))"
      ],
      "metadata": {
        "colab": {
          "base_uri": "https://localhost:8080/"
        },
        "id": "C0dyTrWixs6W",
        "outputId": "c6e675c5-ca70-4048-815f-aef14bb0e393"
      },
      "execution_count": 12,
      "outputs": [
        {
          "output_type": "stream",
          "name": "stdout",
          "text": [
            "tensor([[[[1, 2, 3],\n",
            "          [4, 5, 6]],\n",
            "\n",
            "         [[3, 2, 5],\n",
            "          [9, 2, 6]]],\n",
            "\n",
            "\n",
            "        [[[2, 9, 7],\n",
            "          [6, 5, 1]],\n",
            "\n",
            "         [[2, 9, 8],\n",
            "          [6, 4, 0]]],\n",
            "\n",
            "\n",
            "        [[[9, 2, 1],\n",
            "          [6, 4, 1]],\n",
            "\n",
            "         [[2, 7, 6],\n",
            "          [5, 8, 6]]]])\n",
            "차원 :  4\n",
            "사이즈 :  torch.Size([3, 2, 2, 3])\n"
          ]
        }
      ]
    },
    {
      "cell_type": "code",
      "source": [
        "e = torch.tensor([[[[1]]]])\n",
        "print(e)\n",
        "print('차원 : ', torch.Tensor.dim(e))\n",
        "print('사이즈 : ', torch.Tensor.size(e))"
      ],
      "metadata": {
        "colab": {
          "base_uri": "https://localhost:8080/"
        },
        "id": "kX3ebSRIyZeR",
        "outputId": "9b7c854b-2e62-4397-a23d-cc1ced803412"
      },
      "execution_count": 13,
      "outputs": [
        {
          "output_type": "stream",
          "name": "stdout",
          "text": [
            "tensor([[[[1]]]])\n",
            "차원 :  4\n",
            "사이즈 :  torch.Size([1, 1, 1, 1])\n"
          ]
        }
      ]
    }
  ]
}